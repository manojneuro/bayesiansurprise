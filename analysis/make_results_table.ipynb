{
 "cells": [
  {
   "cell_type": "markdown",
   "id": "6468a860",
   "metadata": {},
   "source": [
    "## Make tables of results for Latex"
   ]
  },
  {
   "cell_type": "code",
   "execution_count": 1,
   "id": "50a9274f",
   "metadata": {},
   "outputs": [],
   "source": [
    "import warnings\n",
    "import sys \n",
    "if not sys.warnoptions:\n",
    "    warnings.simplefilter(\"ignore\")\n",
    "import numpy as np \n",
    "\n",
    "from scipy import stats\n",
    "from sklearn import preprocessing\n",
    "import matplotlib.pyplot as plt \n",
    "import seaborn as sns \n",
    "import scipy.io\n",
    "from scipy.io import loadmat\n",
    "import pandas as pd\n",
    "\n",
    "import matplotlib.style as style \n",
    "from matplotlib.offsetbox import AnchoredText\n",
    "\n",
    "from scipy.signal import correlate, correlation_lags\n",
    "\n",
    "from tqdm import tqdm\n",
    "from numpy.random import RandomState\n",
    "\n",
    "import imp\n",
    "import time\n",
    "from timeit import default_timer as timer\n",
    "import matplotlib.patches as patches\n",
    "import pickle as pickle\n",
    "import os\n",
    "import argparse\n",
    "\n",
    "#get_ipython().run_line_magic('matplotlib', 'inline')\n",
    "#get_ipython().run_line_magic('autosave', '5')\n",
    "sns.set(style = 'whitegrid', context='poster', rc={\"lines.linewidth\": 2.5})\n",
    "import matplotlib as mpl\n",
    "mpl.rcParams['pdf.fonttype'] = 42\n",
    "mpl.rcParams['ps.fonttype'] = 42\n",
    "import matplotlib.patches as patches\n",
    "#mpl.use('Agg')\n",
    "\n",
    "\n",
    "#%matplotlib inline \n",
    "#%autosave 5\n",
    "\n",
    "from context_helper import folders\n",
    "\n",
    "#%matplotlib inline \n",
    "#%autosave 5\n",
    "\n",
    "model='GPT2'\n",
    "\n",
    "home_dir = folders['tiger']\n",
    "save_plot='Y'\n",
    "results_dir= home_dir + 'results/revision1/'\n",
    "log_dir = home_dir + 'logs/'\n"
   ]
  },
  {
   "cell_type": "code",
   "execution_count": 2,
   "id": "8d68d305",
   "metadata": {},
   "outputs": [],
   "source": [
    "drift_val=[3,5, 10]\n",
    "#analyses= ['EntropyRatio_Average_Reynolds']\n",
    "#analyses=['GPT2Embed-cosineRatio_Average_Reynolds']\n",
    "analyses= ['KLDivergenceRatio_Average_Reynolds']\n",
    "#analyses= ['SurpriseRatio_Average_Reynolds']\n",
    "#analyses= ['GPT2Embed-cosine']\n",
    "\n",
    "\n",
    "nfeatures=[20, 50, 100, 150, 200]\n",
    "\n",
    "df=pd.DataFrame()\n",
    "df_monkey=pd.DataFrame()\n",
    "df_pieman=pd.DataFrame()\n",
    "df_tunnel=pd.DataFrame()\n"
   ]
  },
  {
   "cell_type": "code",
   "execution_count": 3,
   "id": "e4bea326",
   "metadata": {},
   "outputs": [],
   "source": [
    "df['Regression Window']=nfeatures\n",
    "df_monkey['Regression Window']=nfeatures\n",
    "df_pieman['Regression Window']=nfeatures\n",
    "df_tunnel['Regression Window']=nfeatures"
   ]
  },
  {
   "cell_type": "markdown",
   "id": "dfea063e",
   "metadata": {},
   "source": [
    "## Transient"
   ]
  },
  {
   "cell_type": "code",
   "execution_count": 5,
   "id": "5b53cad6",
   "metadata": {},
   "outputs": [],
   "source": [
    "for analysis in analyses:\n",
    "    for drift in drift_val:\n",
    "        correl_name = 'Correlation_drift%i' % drift\n",
    "        percentile_name = 'Percentile_drift%i' % drift\n",
    "        pval_all=np.zeros(len(nfeatures))\n",
    "        pval_story_all = np.empty([len(nfeatures), 3])\n",
    "        corr_score_all=np.zeros(len(nfeatures))\n",
    "        corr_score_story_all = np.empty([len(nfeatures), 3])\n",
    "        counter=0\n",
    "        for feat in nfeatures:      \n",
    "            #fname = results_dir+'perm_regression_outputs_%s_drift%i_%i_Lasso.npz' % (analysis,drift,feat )\n",
    "            # for the newer analyses, the nozscore suffix was added.\n",
    "            fname = results_dir+'perm_regression_outputs_%s_drift%i_%i_Lasso_noZscore.npz' % (analysis,drift,feat )\n",
    "\n",
    "\n",
    "            #print(fname)\n",
    "            betas_perm_file=np.load(fname)\n",
    "            betas_perm_all=betas_perm_file['betas_perm_all']\n",
    "            betas=betas_perm_file['betas']\n",
    "            corr_perm_all=betas_perm_file['corr_perm_all']\n",
    "            corr_score=betas_perm_file['corr_score']\n",
    "            pval_all[counter]=np.round(stats.percentileofscore(np.mean(corr_perm_all,axis=1),np.mean(corr_score)),1)\n",
    "            corr_score_all[counter]=np.round(np.mean(corr_score),2)\n",
    "            corr_score_story_all[counter]= corr_score\n",
    "\n",
    "            # compute p-val for each story\n",
    "            \n",
    "            for story in range(3):\n",
    "                    pval_story_all[counter,story]=np.round(stats.percentileofscore(corr_perm_all[:,story],corr_score[story]),1)\n",
    "            \n",
    "            counter= counter+1\n",
    "            \n",
    "        df[percentile_name]=pval_all\n",
    "        df[correl_name]=corr_score_all\n",
    "        \n",
    "        df_monkey[percentile_name]=pval_story_all[:,0]\n",
    "        df_pieman[percentile_name]=pval_story_all[:,1]\n",
    "        df_tunnel[percentile_name]=pval_story_all[:,2]\n",
    "        \n",
    "        df_monkey[correl_name]=np.round(corr_score_story_all[:,0],2)\n",
    "        df_pieman[correl_name]=np.round(corr_score_story_all[:,1],2)\n",
    "        df_tunnel[correl_name]=np.round(corr_score_story_all[:,2],2)\n",
    "            #df_pieman[correl_name].iloc[counter]=corr_score[1]\n",
    "        #df_tunnel[correl_name].iloc[counter]=corr_score[2]\n",
    "df_transient=df\n",
    "df_transient_monkey = df_monkey\n",
    "df_transient_pieman = df_pieman\n",
    "df_transient_tunnel  = df_tunnel\n",
    "            "
   ]
  },
  {
   "cell_type": "code",
   "execution_count": 6,
   "id": "72ba37c9",
   "metadata": {},
   "outputs": [
    {
     "data": {
      "text/plain": [
       "array([[0.04971239, 0.06683587, 0.01535882],\n",
       "       [0.0722452 , 0.07909474, 0.03002769],\n",
       "       [0.08921811, 0.19142437, 0.0269756 ],\n",
       "       [0.08659967, 0.22277218, 0.05048875],\n",
       "       [0.08960816, 0.19856754, 0.0846642 ]])"
      ]
     },
     "execution_count": 6,
     "metadata": {},
     "output_type": "execute_result"
    }
   ],
   "source": [
    "corr_score_story_all"
   ]
  },
  {
   "cell_type": "code",
   "execution_count": 7,
   "id": "8fc34925",
   "metadata": {},
   "outputs": [],
   "source": [
    "column_order=['Regression Window', 'Correlation_drift3', 'Percentile_drift3', 'Correlation_drift5', 'Percentile_drift5', 'Correlation_drift10', 'Percentile_drift10']"
   ]
  },
  {
   "cell_type": "code",
   "execution_count": 8,
   "id": "b3e2d439",
   "metadata": {},
   "outputs": [
    {
     "name": "stdout",
     "output_type": "stream",
     "text": [
      "\\begin{tabular}{rrrrrrr}\n",
      "\\toprule\n",
      " Regression Window &  Correlation\\_drift3 &  Percentile\\_drift3 &  Correlation\\_drift5 &  Percentile\\_drift5 &  Correlation\\_drift10 &  Percentile\\_drift10 \\\\\n",
      "\\midrule\n",
      "                20 &                0.07 &               97.9 &                0.07 &               98.0 &                 0.05 &                95.4 \\\\\n",
      "                50 &                0.07 &               98.0 &                0.07 &               98.0 &                 0.07 &                97.9 \\\\\n",
      "               100 &                0.10 &              100.0 &                0.10 &               99.9 &                 0.09 &                99.8 \\\\\n",
      "               150 &                0.08 &               98.7 &                0.08 &               98.9 &                 0.09 &                99.2 \\\\\n",
      "               200 &                0.08 &               98.9 &                0.09 &               99.2 &                 0.09 &                99.2 \\\\\n",
      "\\bottomrule\n",
      "\\end{tabular}\n",
      "\n",
      "['KLDivergenceRatio_Average_Reynolds']\n"
     ]
    }
   ],
   "source": [
    "print(df_monkey[column_order].to_latex(index=False))\n",
    "print(analyses)"
   ]
  },
  {
   "cell_type": "code",
   "execution_count": 9,
   "id": "60298f5d",
   "metadata": {},
   "outputs": [
    {
     "name": "stdout",
     "output_type": "stream",
     "text": [
      "\\begin{tabular}{rrrrrrr}\n",
      "\\toprule\n",
      " Regression Window &  Correlation\\_drift3 &  Percentile\\_drift3 &  Correlation\\_drift5 &  Percentile\\_drift5 &  Correlation\\_drift10 &  Percentile\\_drift10 \\\\\n",
      "\\midrule\n",
      "                20 &                0.05 &               78.6 &                0.05 &               78.6 &                 0.07 &                85.0 \\\\\n",
      "                50 &                0.09 &               89.8 &                0.08 &               88.0 &                 0.08 &                87.0 \\\\\n",
      "               100 &                0.20 &              100.0 &                0.20 &              100.0 &                 0.19 &               100.0 \\\\\n",
      "               150 &                0.22 &               99.8 &                0.22 &              100.0 &                 0.22 &               100.0 \\\\\n",
      "               200 &                0.19 &               98.8 &                0.19 &               99.2 &                 0.20 &                99.8 \\\\\n",
      "\\bottomrule\n",
      "\\end{tabular}\n",
      "\n",
      "['KLDivergenceRatio_Average_Reynolds']\n"
     ]
    }
   ],
   "source": [
    "print(df_pieman[column_order].to_latex(index=False))\n",
    "print(analyses)"
   ]
  },
  {
   "cell_type": "code",
   "execution_count": 10,
   "id": "66edfab1",
   "metadata": {},
   "outputs": [
    {
     "name": "stdout",
     "output_type": "stream",
     "text": [
      "\\begin{tabular}{rrrrrrr}\n",
      "\\toprule\n",
      " Regression Window &  Correlation\\_drift3 &  Percentile\\_drift3 &  Correlation\\_drift5 &  Percentile\\_drift5 &  Correlation\\_drift10 &  Percentile\\_drift10 \\\\\n",
      "\\midrule\n",
      "                20 &                0.04 &               89.9 &                0.03 &               87.8 &                 0.02 &                72.0 \\\\\n",
      "                50 &                0.04 &               86.3 &                0.03 &               85.3 &                 0.03 &                84.9 \\\\\n",
      "               100 &                0.04 &               87.0 &                0.03 &               81.4 &                 0.03 &                76.6 \\\\\n",
      "               150 &                0.05 &               88.4 &                0.05 &               87.4 &                 0.05 &                84.7 \\\\\n",
      "               200 &                0.08 &               95.2 &                0.09 &               95.8 &                 0.08 &                95.6 \\\\\n",
      "\\bottomrule\n",
      "\\end{tabular}\n",
      "\n",
      "['KLDivergenceRatio_Average_Reynolds']\n"
     ]
    }
   ],
   "source": [
    "print(df_tunnel[column_order].to_latex(index=False))\n",
    "print(analyses)"
   ]
  },
  {
   "cell_type": "code",
   "execution_count": 11,
   "id": "90528e45",
   "metadata": {},
   "outputs": [
    {
     "data": {
      "text/html": [
       "<div>\n",
       "<style scoped>\n",
       "    .dataframe tbody tr th:only-of-type {\n",
       "        vertical-align: middle;\n",
       "    }\n",
       "\n",
       "    .dataframe tbody tr th {\n",
       "        vertical-align: top;\n",
       "    }\n",
       "\n",
       "    .dataframe thead th {\n",
       "        text-align: right;\n",
       "    }\n",
       "</style>\n",
       "<table border=\"1\" class=\"dataframe\">\n",
       "  <thead>\n",
       "    <tr style=\"text-align: right;\">\n",
       "      <th></th>\n",
       "      <th>Regression Window</th>\n",
       "      <th>Correlation_drift3</th>\n",
       "      <th>Percentile_drift3</th>\n",
       "      <th>Correlation_drift5</th>\n",
       "      <th>Percentile_drift5</th>\n",
       "      <th>Correlation_drift10</th>\n",
       "      <th>Percentile_drift10</th>\n",
       "    </tr>\n",
       "  </thead>\n",
       "  <tbody>\n",
       "    <tr>\n",
       "      <th>0</th>\n",
       "      <td>20</td>\n",
       "      <td>0.05</td>\n",
       "      <td>94.7</td>\n",
       "      <td>0.05</td>\n",
       "      <td>94.2</td>\n",
       "      <td>0.04</td>\n",
       "      <td>91.2</td>\n",
       "    </tr>\n",
       "    <tr>\n",
       "      <th>1</th>\n",
       "      <td>50</td>\n",
       "      <td>0.07</td>\n",
       "      <td>97.6</td>\n",
       "      <td>0.06</td>\n",
       "      <td>96.8</td>\n",
       "      <td>0.06</td>\n",
       "      <td>96.4</td>\n",
       "    </tr>\n",
       "    <tr>\n",
       "      <th>2</th>\n",
       "      <td>100</td>\n",
       "      <td>0.11</td>\n",
       "      <td>100.0</td>\n",
       "      <td>0.11</td>\n",
       "      <td>99.8</td>\n",
       "      <td>0.10</td>\n",
       "      <td>99.2</td>\n",
       "    </tr>\n",
       "    <tr>\n",
       "      <th>3</th>\n",
       "      <td>150</td>\n",
       "      <td>0.12</td>\n",
       "      <td>99.9</td>\n",
       "      <td>0.12</td>\n",
       "      <td>99.9</td>\n",
       "      <td>0.12</td>\n",
       "      <td>99.9</td>\n",
       "    </tr>\n",
       "    <tr>\n",
       "      <th>4</th>\n",
       "      <td>200</td>\n",
       "      <td>0.12</td>\n",
       "      <td>99.2</td>\n",
       "      <td>0.12</td>\n",
       "      <td>99.4</td>\n",
       "      <td>0.12</td>\n",
       "      <td>99.6</td>\n",
       "    </tr>\n",
       "  </tbody>\n",
       "</table>\n",
       "</div>"
      ],
      "text/plain": [
       "   Regression Window  Correlation_drift3  Percentile_drift3  \\\n",
       "0                 20                0.05               94.7   \n",
       "1                 50                0.07               97.6   \n",
       "2                100                0.11              100.0   \n",
       "3                150                0.12               99.9   \n",
       "4                200                0.12               99.2   \n",
       "\n",
       "   Correlation_drift5  Percentile_drift5  Correlation_drift10  \\\n",
       "0                0.05               94.2                 0.04   \n",
       "1                0.06               96.8                 0.06   \n",
       "2                0.11               99.8                 0.10   \n",
       "3                0.12               99.9                 0.12   \n",
       "4                0.12               99.4                 0.12   \n",
       "\n",
       "   Percentile_drift10  \n",
       "0                91.2  \n",
       "1                96.4  \n",
       "2                99.2  \n",
       "3                99.9  \n",
       "4                99.6  "
      ]
     },
     "execution_count": 11,
     "metadata": {},
     "output_type": "execute_result"
    }
   ],
   "source": [
    "df[column_order]"
   ]
  },
  {
   "cell_type": "code",
   "execution_count": 7,
   "id": "bb8d2212",
   "metadata": {},
   "outputs": [
    {
     "name": "stdout",
     "output_type": "stream",
     "text": [
      "\\begin{tabular}{rrrrrrr}\n",
      "\\toprule\n",
      " Regression Window &  Correlation\\_drift3 &  Percentile\\_drift3 &  Correlation\\_drift5 &  Percentile\\_drift5 &  Correlation\\_drift10 &  Percentile\\_drift10 \\\\\n",
      "\\midrule\n",
      "                20 &               -0.02 &               27.8 &               -0.01 &               37.0 &                 0.00 &                49.0 \\\\\n",
      "                50 &               -0.06 &                5.3 &               -0.05 &                9.2 &                -0.04 &                14.2 \\\\\n",
      "               100 &                0.00 &               57.2 &                0.01 &               62.7 &                 0.02 &                68.6 \\\\\n",
      "               150 &                0.01 &               56.6 &                0.01 &               61.7 &                 0.02 &                68.4 \\\\\n",
      "               200 &               -0.02 &               37.8 &               -0.01 &               47.5 &                 0.02 &                68.8 \\\\\n",
      "\\bottomrule\n",
      "\\end{tabular}\n",
      "\n",
      "['EntropyRatio_Average_Reynolds']\n"
     ]
    }
   ],
   "source": [
    "print(df[column_order].to_latex(index=False)) \n",
    "print(analyses)"
   ]
  },
  {
   "cell_type": "code",
   "execution_count": 13,
   "id": "d494d827",
   "metadata": {},
   "outputs": [
    {
     "name": "stdout",
     "output_type": "stream",
     "text": [
      "\\begin{tabular}{rrrrrrr}\n",
      "\\toprule\n",
      " Regression Window &  Correlation\\_drift3 &  Percentile\\_drift3 &  Correlation\\_drift5 &  Percentile\\_drift5 &  Correlation\\_drift10 &  Percentile\\_drift10 \\\\\n",
      "\\midrule\n",
      "                20 &                0.02 &               70.5 &                0.02 &               76.7 &                 0.03 &                83.2 \\\\\n",
      "                50 &                0.05 &               91.3 &                0.04 &               86.9 &                 0.03 &                82.6 \\\\\n",
      "               100 &                0.06 &               92.0 &                0.05 &               91.1 &                 0.04 &                85.2 \\\\\n",
      "               150 &                0.00 &               48.4 &               -0.00 &               45.0 &                -0.01 &                37.0 \\\\\n",
      "               200 &                0.02 &               73.7 &                0.03 &               77.2 &                 0.03 &                76.4 \\\\\n",
      "\\bottomrule\n",
      "\\end{tabular}\n",
      "\n",
      "['GPT2Embed-cosineRatio_Average_Reynolds']\n"
     ]
    }
   ],
   "source": [
    "print(df[column_order].to_latex(index=False)) \n",
    "print(analyses)"
   ]
  },
  {
   "cell_type": "markdown",
   "id": "f313f2ad",
   "metadata": {},
   "source": [
    "## Non-Transient"
   ]
  },
  {
   "cell_type": "code",
   "execution_count": 12,
   "id": "da508386",
   "metadata": {},
   "outputs": [],
   "source": [
    "#analyses= ['KLDivergence','GPT2Embed-cosine', 'Entropy']\n",
    "#analyses= ['Surprise']\n",
    "#analyses= ['GPT2Embed-cosine']\n",
    "analyses= ['KLDivergence']\n",
    "nfeatures=[20, 50, 100, 150, 200]\n",
    "\n",
    "df=pd.DataFrame()\n",
    "df_monkey=pd.DataFrame()\n",
    "df_pieman=pd.DataFrame()\n",
    "df_tunnel=pd.DataFrame()\n",
    "\n",
    "df['Regression Window']=nfeatures"
   ]
  },
  {
   "cell_type": "code",
   "execution_count": 13,
   "id": "1b3d70b1",
   "metadata": {},
   "outputs": [],
   "source": [
    "for analysis in analyses:\n",
    "\n",
    "    correl_name = 'Correlation' \n",
    "    percentile_name = 'Percentile' \n",
    "    pval_all=np.zeros(len(nfeatures))\n",
    "    pval_story_all = np.empty([len(nfeatures), 3])\n",
    "    corr_score_all=np.zeros(len(nfeatures))\n",
    "    corr_score_story_all = np.empty([len(nfeatures), 3])\n",
    "    counter=0\n",
    "    for feat in nfeatures:      \n",
    "        #fname = results_dir+'perm_regression_outputs_%s_%i_Lasso.npz' % (analysis,feat )\n",
    "        # for the non transient analyses, the zscore suffix was added.\n",
    "        fname = results_dir+'perm_regression_outputs_%s_%i_Lasso_yesZscore.npz' % (analysis,feat )\n",
    "\n",
    "\n",
    "        #print(fname)\n",
    "        betas_perm_file=np.load(fname)\n",
    "        betas_perm_all=betas_perm_file['betas_perm_all']\n",
    "        betas=betas_perm_file['betas']\n",
    "        corr_perm_all=betas_perm_file['corr_perm_all']\n",
    "        corr_score=betas_perm_file['corr_score']\n",
    "        pval_all[counter]=np.round(stats.percentileofscore(np.mean(corr_perm_all,axis=1),np.mean(corr_score)),1)\n",
    "        corr_score_all[counter]=np.round(np.mean(corr_score),2)\n",
    "        corr_score_story_all[counter]= corr_score\n",
    "\n",
    "        # compute p-val for each story\n",
    "\n",
    "        for story in range(3):\n",
    "                pval_story_all[counter,story]=np.round(stats.percentileofscore(corr_perm_all[:,story],corr_score[story]),1)\n",
    "\n",
    "        counter= counter+1\n",
    "\n",
    "    df[percentile_name]=pval_all\n",
    "    df[correl_name]=corr_score_all\n",
    "\n",
    "    df_monkey[percentile_name]=pval_story_all[:,0]\n",
    "    df_pieman[percentile_name]=pval_story_all[:,1]\n",
    "    df_tunnel[percentile_name]=pval_story_all[:,2]\n",
    "\n",
    "    df_monkey[correl_name]=np.round(corr_score_story_all[:,0],2)\n",
    "    df_pieman[correl_name]=np.round(corr_score_story_all[:,1],2)\n",
    "    df_tunnel[correl_name]=np.round(corr_score_story_all[:,2],2)\n",
    "        #df_pieman[correl_name].iloc[counter]=corr_score[1]\n",
    "    #df_tunnel[correl_name].iloc[counter]=corr_score[2]\n",
    "\n"
   ]
  },
  {
   "cell_type": "code",
   "execution_count": 14,
   "id": "906c7985",
   "metadata": {},
   "outputs": [],
   "source": [
    "column_order=['Regression Window','Correlation', 'Percentile']"
   ]
  },
  {
   "cell_type": "code",
   "execution_count": 15,
   "id": "560ee033",
   "metadata": {},
   "outputs": [
    {
     "name": "stdout",
     "output_type": "stream",
     "text": [
      "\\begin{tabular}{rrr}\n",
      "\\toprule\n",
      " Regression Window &  Correlation &  Percentile \\\\\n",
      "\\midrule\n",
      "                20 &         0.04 &        77.8 \\\\\n",
      "                50 &         0.07 &        90.1 \\\\\n",
      "               100 &         0.11 &        96.8 \\\\\n",
      "               150 &         0.11 &        97.8 \\\\\n",
      "               200 &         0.12 &        98.4 \\\\\n",
      "\\bottomrule\n",
      "\\end{tabular}\n",
      "\n",
      "['KLDivergence']\n"
     ]
    }
   ],
   "source": [
    "print(df[column_order].to_latex(index=False)) \n",
    "print(analyses)"
   ]
  },
  {
   "cell_type": "markdown",
   "id": "0a4af285",
   "metadata": {},
   "source": [
    "# Combine transient and non-transient tables into one"
   ]
  },
  {
   "cell_type": "code",
   "execution_count": 16,
   "id": "fe6379e8",
   "metadata": {},
   "outputs": [],
   "source": [
    "column_order=['Correlation', 'Percentile']\n",
    "column_order_transient=['Regression Window', 'Correlation_drift3', 'Percentile_drift3', 'Correlation_drift5', 'Percentile_drift5', 'Correlation_drift10', 'Percentile_drift10']"
   ]
  },
  {
   "cell_type": "code",
   "execution_count": 17,
   "id": "2f8aba9c",
   "metadata": {},
   "outputs": [],
   "source": [
    "df_combined_corr=pd.concat([df_transient[column_order_transient],df[column_order]], axis=1)"
   ]
  },
  {
   "cell_type": "code",
   "execution_count": 18,
   "id": "5d326000",
   "metadata": {},
   "outputs": [
    {
     "data": {
      "text/html": [
       "<div>\n",
       "<style scoped>\n",
       "    .dataframe tbody tr th:only-of-type {\n",
       "        vertical-align: middle;\n",
       "    }\n",
       "\n",
       "    .dataframe tbody tr th {\n",
       "        vertical-align: top;\n",
       "    }\n",
       "\n",
       "    .dataframe thead th {\n",
       "        text-align: right;\n",
       "    }\n",
       "</style>\n",
       "<table border=\"1\" class=\"dataframe\">\n",
       "  <thead>\n",
       "    <tr style=\"text-align: right;\">\n",
       "      <th></th>\n",
       "      <th>Regression Window</th>\n",
       "      <th>Correlation_drift3</th>\n",
       "      <th>Percentile_drift3</th>\n",
       "      <th>Correlation_drift5</th>\n",
       "      <th>Percentile_drift5</th>\n",
       "      <th>Correlation_drift10</th>\n",
       "      <th>Percentile_drift10</th>\n",
       "      <th>Correlation</th>\n",
       "      <th>Percentile</th>\n",
       "    </tr>\n",
       "  </thead>\n",
       "  <tbody>\n",
       "    <tr>\n",
       "      <th>0</th>\n",
       "      <td>20</td>\n",
       "      <td>0.05</td>\n",
       "      <td>94.7</td>\n",
       "      <td>0.05</td>\n",
       "      <td>94.2</td>\n",
       "      <td>0.04</td>\n",
       "      <td>91.2</td>\n",
       "      <td>0.04</td>\n",
       "      <td>77.8</td>\n",
       "    </tr>\n",
       "    <tr>\n",
       "      <th>1</th>\n",
       "      <td>50</td>\n",
       "      <td>0.07</td>\n",
       "      <td>97.6</td>\n",
       "      <td>0.06</td>\n",
       "      <td>96.8</td>\n",
       "      <td>0.06</td>\n",
       "      <td>96.4</td>\n",
       "      <td>0.07</td>\n",
       "      <td>90.1</td>\n",
       "    </tr>\n",
       "    <tr>\n",
       "      <th>2</th>\n",
       "      <td>100</td>\n",
       "      <td>0.11</td>\n",
       "      <td>100.0</td>\n",
       "      <td>0.11</td>\n",
       "      <td>99.8</td>\n",
       "      <td>0.10</td>\n",
       "      <td>99.2</td>\n",
       "      <td>0.11</td>\n",
       "      <td>96.8</td>\n",
       "    </tr>\n",
       "    <tr>\n",
       "      <th>3</th>\n",
       "      <td>150</td>\n",
       "      <td>0.12</td>\n",
       "      <td>99.9</td>\n",
       "      <td>0.12</td>\n",
       "      <td>99.9</td>\n",
       "      <td>0.12</td>\n",
       "      <td>99.9</td>\n",
       "      <td>0.11</td>\n",
       "      <td>97.8</td>\n",
       "    </tr>\n",
       "    <tr>\n",
       "      <th>4</th>\n",
       "      <td>200</td>\n",
       "      <td>0.12</td>\n",
       "      <td>99.2</td>\n",
       "      <td>0.12</td>\n",
       "      <td>99.4</td>\n",
       "      <td>0.12</td>\n",
       "      <td>99.6</td>\n",
       "      <td>0.12</td>\n",
       "      <td>98.4</td>\n",
       "    </tr>\n",
       "  </tbody>\n",
       "</table>\n",
       "</div>"
      ],
      "text/plain": [
       "   Regression Window  Correlation_drift3  Percentile_drift3  \\\n",
       "0                 20                0.05               94.7   \n",
       "1                 50                0.07               97.6   \n",
       "2                100                0.11              100.0   \n",
       "3                150                0.12               99.9   \n",
       "4                200                0.12               99.2   \n",
       "\n",
       "   Correlation_drift5  Percentile_drift5  Correlation_drift10  \\\n",
       "0                0.05               94.2                 0.04   \n",
       "1                0.06               96.8                 0.06   \n",
       "2                0.11               99.8                 0.10   \n",
       "3                0.12               99.9                 0.12   \n",
       "4                0.12               99.4                 0.12   \n",
       "\n",
       "   Percentile_drift10  Correlation  Percentile  \n",
       "0                91.2         0.04        77.8  \n",
       "1                96.4         0.07        90.1  \n",
       "2                99.2         0.11        96.8  \n",
       "3                99.9         0.11        97.8  \n",
       "4                99.6         0.12        98.4  "
      ]
     },
     "execution_count": 18,
     "metadata": {},
     "output_type": "execute_result"
    }
   ],
   "source": [
    "df_combined_corr"
   ]
  },
  {
   "cell_type": "code",
   "execution_count": 22,
   "id": "4e09231c",
   "metadata": {},
   "outputs": [
    {
     "name": "stdout",
     "output_type": "stream",
     "text": [
      "\\begin{tabular}{rrrrrrrrr}\n",
      "\\toprule\n",
      " Regression Window &  Correlation\\_drift3 &  Percentile\\_drift3 &  Correlation\\_drift5 &  Percentile\\_drift5 &  Correlation\\_drift10 &  Percentile\\_drift10 &  Correlation &  Percentile \\\\\n",
      "\\midrule\n",
      "                20 &                0.05 &               94.7 &                0.05 &               94.2 &                 0.04 &                91.2 &         0.04 &        77.8 \\\\\n",
      "                50 &                0.07 &               97.6 &                0.06 &               96.8 &                 0.06 &                96.4 &         0.07 &        90.1 \\\\\n",
      "               100 &                0.11 &              100.0 &                0.11 &               99.8 &                 0.10 &                99.2 &         0.11 &        96.8 \\\\\n",
      "               150 &                0.12 &               99.9 &                0.12 &               99.9 &                 0.12 &                99.9 &         0.11 &        97.8 \\\\\n",
      "               200 &                0.12 &               99.2 &                0.12 &               99.4 &                 0.12 &                99.6 &         0.12 &        98.4 \\\\\n",
      "\\bottomrule\n",
      "\\end{tabular}\n",
      "\n",
      "['KLDivergence']\n"
     ]
    }
   ],
   "source": [
    "print(df_combined_corr.to_latex(index=False)) \n",
    "print(analyses)"
   ]
  },
  {
   "cell_type": "code",
   "execution_count": 13,
   "id": "599532e8",
   "metadata": {},
   "outputs": [
    {
     "name": "stdout",
     "output_type": "stream",
     "text": [
      "\\begin{tabular}{rrrrrrrrr}\n",
      "\\toprule\n",
      " Regression Window &  Correlation\\_drift3 &  Percentile\\_drift3 &  Correlation\\_drift5 &  Percentile\\_drift5 &  Correlation\\_drift10 &  Percentile\\_drift10 &  Correlation &  Percentile \\\\\n",
      "\\midrule\n",
      "                20 &                0.01 &               59.8 &                0.01 &               65.2 &                 0.02 &                70.3 &        -0.06 &        13.9 \\\\\n",
      "                50 &                0.03 &               84.5 &                0.03 &               77.9 &                 0.02 &                72.0 &        -0.01 &        40.4 \\\\\n",
      "               100 &                0.04 &               90.6 &                0.04 &               88.2 &                 0.03 &                78.6 &        -0.01 &        40.6 \\\\\n",
      "               150 &               -0.01 &               42.7 &               -0.01 &               40.9 &                -0.02 &                30.6 &        -0.04 &        21.2 \\\\\n",
      "               200 &                0.03 &               77.5 &                0.03 &               79.8 &                 0.02 &                76.1 &        -0.01 &        42.7 \\\\\n",
      "\\bottomrule\n",
      "\\end{tabular}\n",
      "\n",
      "['GPT2Embed-cosine']\n"
     ]
    }
   ],
   "source": [
    "print(df_combined_corr.to_latex(index=False)) \n",
    "print(analyses)"
   ]
  },
  {
   "cell_type": "code",
   "execution_count": 40,
   "id": "027678d8",
   "metadata": {},
   "outputs": [
    {
     "name": "stdout",
     "output_type": "stream",
     "text": [
      "\\begin{tabular}{rrrrrrrrr}\n",
      "\\toprule\n",
      " Regression Window &  Correlation\\_drift3 &  Percentile\\_drift3 &  Correlation\\_drift5 &  Percentile\\_drift5 &  Correlation\\_drift10 &  Percentile\\_drift10 &  Correlation &  Percentile \\\\\n",
      "\\midrule\n",
      "                20 &               -0.03 &               17.4 &               -0.02 &               21.5 &                -0.02 &                22.5 &        -0.06 &         6.5 \\\\\n",
      "                50 &               -0.08 &                1.0 &               -0.07 &                1.0 &                -0.06 &                 2.0 &        -0.08 &         2.8 \\\\\n",
      "               100 &               -0.04 &               12.9 &               -0.04 &               12.5 &                -0.04 &                10.6 &        -0.06 &         6.0 \\\\\n",
      "               150 &               -0.00 &               41.5 &               -0.01 &               37.6 &                -0.02 &                25.6 &        -0.01 &        34.0 \\\\\n",
      "               200 &                0.01 &               59.6 &                0.00 &               53.6 &                -0.02 &                34.8 &         0.00 &        54.3 \\\\\n",
      "\\bottomrule\n",
      "\\end{tabular}\n",
      "\n",
      "['Surprise']\n"
     ]
    }
   ],
   "source": [
    "print(df_combined_corr.to_latex(index=False)) \n",
    "print(analyses)"
   ]
  },
  {
   "cell_type": "code",
   "execution_count": 51,
   "id": "0735020b",
   "metadata": {},
   "outputs": [
    {
     "name": "stdout",
     "output_type": "stream",
     "text": [
      "\\begin{tabular}{rrrrrrrrr}\n",
      "\\toprule\n",
      " Regression Window &  Correlation\\_drift3 &  Percentile\\_drift3 &  Correlation\\_drift5 &  Percentile\\_drift5 &  Correlation\\_drift10 &  Percentile\\_drift10 &  Correlation &  Percentile \\\\\n",
      "\\midrule\n",
      "                20 &               -0.02 &               27.3 &               -0.00 &               42.2 &                 0.01 &                56.4 &        -0.04 &        18.4 \\\\\n",
      "                50 &               -0.04 &               12.2 &               -0.02 &               22.7 &                -0.01 &                33.6 &        -0.07 &         6.8 \\\\\n",
      "               100 &                0.03 &               81.4 &                0.03 &               82.4 &                 0.03 &                84.6 &        -0.01 &        43.0 \\\\\n",
      "               150 &                0.04 &               82.3 &                0.04 &               82.7 &                 0.04 &                82.7 &         0.00 &        55.3 \\\\\n",
      "               200 &               -0.01 &               44.0 &               -0.00 &               50.7 &                 0.02 &                72.5 &        -0.02 &        35.8 \\\\\n",
      "\\bottomrule\n",
      "\\end{tabular}\n",
      "\n",
      "['Entropy']\n"
     ]
    }
   ],
   "source": [
    "print(df_combined_corr.to_latex(index=False)) \n",
    "print(analyses)"
   ]
  }
 ],
 "metadata": {
  "kernelspec": {
   "display_name": "Python 3",
   "language": "python",
   "name": "python3"
  },
  "language_info": {
   "codemirror_mode": {
    "name": "ipython",
    "version": 3
   },
   "file_extension": ".py",
   "mimetype": "text/x-python",
   "name": "python",
   "nbconvert_exporter": "python",
   "pygments_lexer": "ipython3",
   "version": "3.7.10"
  }
 },
 "nbformat": 4,
 "nbformat_minor": 5
}
