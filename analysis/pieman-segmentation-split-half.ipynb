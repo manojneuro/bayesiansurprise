{
 "cells": [
  {
   "cell_type": "code",
   "execution_count": 1,
   "metadata": {},
   "outputs": [
    {
     "data": {
      "application/javascript": [
       "IPython.notebook.set_autosave_interval(5000)"
      ]
     },
     "metadata": {},
     "output_type": "display_data"
    },
    {
     "name": "stdout",
     "output_type": "stream",
     "text": [
      "Autosaving every 5 seconds\n"
     ]
    }
   ],
   "source": [
    "import warnings\n",
    "import sys \n",
    "if not sys.warnoptions:\n",
    "    warnings.simplefilter(\"ignore\")\n",
    "import numpy as np\n",
    "\n",
    "from scipy import stats\n",
    "from sklearn import preprocessing\n",
    "from sklearn import metrics\n",
    "import matplotlib.pyplot as plt \n",
    "import seaborn as sns \n",
    "import scipy.io\n",
    "import pandas as pd\n",
    "import random\n",
    "\n",
    "import matplotlib.style as style \n",
    "from matplotlib.offsetbox import AnchoredText\n",
    "from context_helper import folders, compute_density, compute_corr_part_random\n",
    "\n",
    "sns.set(style = 'white', context='poster', rc={\"lines.linewidth\": 2.5})\n",
    "import matplotlib as mpl\n",
    "mpl.rcParams['pdf.fonttype'] = 42\n",
    "mpl.rcParams['ps.fonttype'] = 42\n",
    "import matplotlib.patches as patches\n",
    "from scipy.interpolate import UnivariateSpline\n",
    "%matplotlib inline \n",
    "%autosave 5"
   ]
  },
  {
   "cell_type": "code",
   "execution_count": 2,
   "metadata": {},
   "outputs": [],
   "source": [
    "import argparse\n",
    "parser=argparse.ArgumentParser()\n",
    "parser.add_argument('--story', type=str)\n",
    "\n",
    "args = parser.parse_args(args=['--story', 'pieman'])"
   ]
  },
  {
   "cell_type": "code",
   "execution_count": 3,
   "metadata": {},
   "outputs": [],
   "source": [
    "home_dir = folders['desk']\n",
    "pod_name=args.story\n",
    "datum_dir='/Users/manojkumar/Research/context-prediction/datum/podcast/%s/' % pod_name\n",
    "\n",
    "results_dir='/Users/manojkumar/Research/context-prediction/outputs/'\n",
    "model = 'GPT2'\n",
    "results_dir_model= home_dir + 'outputs/' + '%s/' % model"
   ]
  },
  {
   "cell_type": "code",
   "execution_count": 4,
   "metadata": {},
   "outputs": [
    {
     "name": "stdout",
     "output_type": "stream",
     "text": [
      "(205, 450000)\n"
     ]
    }
   ],
   "source": [
    "file=datum_dir +'agreement_run1.mat' \n",
    "file2=datum_dir +'alldata_run1.mat' \n",
    "button=scipy.io.loadmat(file)['agreement_run1']\n",
    "individual_button= scipy.io.loadmat(file2)['alldata_run1']\n",
    "print(individual_button.shape)\n",
    "button=np.squeeze(button)"
   ]
  },
  {
   "cell_type": "markdown",
   "metadata": {},
   "source": [
    "## Split the file in half"
   ]
  },
  {
   "cell_type": "code",
   "execution_count": 5,
   "metadata": {},
   "outputs": [
    {
     "name": "stdout",
     "output_type": "stream",
     "text": [
      "Correlation for split half: 0.6769605148200913\n"
     ]
    },
    {
     "data": {
      "text/plain": [
       "<AxesSubplot:>"
      ]
     },
     "execution_count": 5,
     "metadata": {},
     "output_type": "execute_result"
    },
    {
     "data": {
      "image/png": "[encoded data removed]",
      "text/plain": [
       "<Figure size 432x288 with 1 Axes>"
      ]
     },
     "metadata": {
      "needs_background": "light"
     },
     "output_type": "display_data"
    }
   ],
   "source": [
    "# Loop through all parts and compute the correlation for each half\n",
    "random.seed(42)\n",
    "\n",
    "corr = compute_corr_part_random(individual_button.T)\n",
    "print(f\"Correlation for split half: {np.mean(corr)}\")\n",
    "sns.violinplot(data=np.array(corr))"
   ]
  }
 ],
 "metadata": {
  "kernelspec": {
   "display_name": "Python 3",
   "language": "python",
   "name": "python3"
  },
  "language_info": {
   "codemirror_mode": {
    "name": "ipython",
    "version": 3
   },
   "file_extension": ".py",
   "mimetype": "text/x-python",
   "name": "python",
   "nbconvert_exporter": "python",
   "pygments_lexer": "ipython3",
   "version": "3.7.10"
  }
 },
 "nbformat": 4,
 "nbformat_minor": 2
}
